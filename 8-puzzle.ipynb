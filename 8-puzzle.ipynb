{
 "cells": [
  {
   "cell_type": "code",
   "execution_count": null,
   "id": "921b9a27-5c74-494e-974e-0c8b506af330",
   "metadata": {},
   "outputs": [],
   "source": [
    "# 3awzeen neb3at el tree wel none explored state 3ahsan nersemhom lama nedoos 3ala print search tree\n",
    "# el function beta3t el buuton da hatcall function e7na hane3milha hatreturn el tree object with start as the root we qu of the explored state\n",
    "# check for the odd inversion no solution shit"
   ]
  },
  {
   "cell_type": "code",
   "execution_count": null,
   "id": "219fd8c3-e540-411b-9d71-037a7d420a61",
   "metadata": {},
   "outputs": [],
   "source": [
    "# DEAR MAZEN,\n",
    "# tayeb bos enta el mafrood testa3mil el imports zay el an 3amilha hina\n",
    "# ba3dein testa5dem e interface zay hina betraga3lak 3 hagat\n",
    "# awel wa7da list of states el mawgooden fel path beta3 el solution zay ma2olna (numpy array) \n",
    "# tany wa7da el length da howa el number of steps in the solution\n",
    "# talet wa7ed da el child wel start malaksh da3wa beeh delwa2ty\n",
    "# P.S :\n",
    "# 3ashan tefara2 ben euclidean we manhattan astar\n",
    "# eb3at el criterion lil function kida\n",
    "# Astar_interface(start,goal,criterion=\"euclidean\")\n",
    "# OR \n",
    "# Astar_interface(start,goal,criterion=\"manhattan\")\n",
    "# start wel goal are numpy arrays of strings ; ex : np.array(['0','1',.....])\n",
    "# at the end of the notebook fe ezay bet initialize el tree el constructor is tree(root) \n",
    "# root is a start but with type state\n",
    "# "
   ]
  },
  {
   "cell_type": "code",
   "execution_count": 2,
   "id": "3d65a31e-7c2c-4a72-af07-17a9cf677982",
   "metadata": {},
   "outputs": [],
   "source": [
    "import BFS,DFS,Astar,Tree,utils,State\n",
    "import numpy as np"
   ]
  },
  {
   "cell_type": "code",
   "execution_count": 7,
   "id": "17d8fba8-d393-4c55-a87f-3de1e8f0bbef",
   "metadata": {},
   "outputs": [],
   "source": [
    "start=np.array(list(\"125348670\"))\n",
    "goal=np.array(list(\"012345678\"))\n",
    "list_of_states,l,child,start,_1,_=BFS.BFS_interface(start,goal)\n",
    "# start is a state object with the start state i return it to keep the children assigned to it linked and not to create a new object"
   ]
  },
  {
   "cell_type": "code",
   "execution_count": 8,
   "id": "33deac88-49bc-4785-b1b0-65c1c5fd9ea3",
   "metadata": {},
   "outputs": [
    {
     "data": {
      "text/plain": [
       "array([['0', '1', '2', '3', '4', '5', '6', '7', '8'],\n",
       "       ['1', '0', '2', '3', '4', '5', '6', '7', '8'],\n",
       "       ['1', '2', '0', '3', '4', '5', '6', '7', '8'],\n",
       "       ['1', '2', '5', '3', '4', '0', '6', '7', '8'],\n",
       "       ['1', '2', '5', '3', '4', '8', '6', '7', '0']], dtype='<U1')"
      ]
     },
     "execution_count": 8,
     "metadata": {},
     "output_type": "execute_result"
    }
   ],
   "source": [
    "# de el ghatlef 3aliha enta we teprint el enta 3awzo minha\n",
    "list_of_states"
   ]
  },
  {
   "cell_type": "code",
   "execution_count": 9,
   "id": "4a62339f-cc87-4961-8d04-1824bd01543e",
   "metadata": {},
   "outputs": [
    {
     "name": "stdout",
     "output_type": "stream",
     "text": [
      "4\n",
      "4\n",
      "['1', '2', '5']\n",
      "['3', '4', '8']\n",
      "['6', '7', '0']\n",
      "3\n",
      "['1', '2', '5']\n",
      "['3', '4', '0']\n",
      "['6', '7', '8']\n",
      "2\n",
      "['1', '2', '0']\n",
      "['3', '4', '5']\n",
      "['6', '7', '8']\n",
      "1\n",
      "['1', '0', '2']\n",
      "['3', '4', '5']\n",
      "['6', '7', '8']\n",
      "0\n",
      "['0', '1', '2']\n",
      "['3', '4', '5']\n",
      "['6', '7', '8']\n"
     ]
    }
   ],
   "source": [
    "# hina ana 3amil function betleff 3alihom we beteprint  be shakl a7san min el foo2 3ahsan yekoon bayenlak el steps\n",
    "utils.traverse(child)"
   ]
  },
  {
   "cell_type": "code",
   "execution_count": 10,
   "id": "9a1f3b78-9ae0-4b1f-af56-2a8a9cc4deab",
   "metadata": {},
   "outputs": [
    {
     "data": {
      "text/plain": [
       "[['1', '2', '5', '3', '4', '8', '6', '7', '0'],\n",
       " ['1', '2', '5', '3', '4', '8', '6', '0', '7'],\n",
       " ['1', '2', '5', '3', '4', '0', '6', '7', '8'],\n",
       " ['1', '2', '5', '3', '4', '8', '0', '6', '7'],\n",
       " ['1', '2', '5', '3', '0', '8', '6', '4', '7'],\n",
       " ['1', '2', '5', '3', '0', '4', '6', '7', '8'],\n",
       " ['1', '2', '0', '3', '4', '5', '6', '7', '8'],\n",
       " ['1', '2', '5', '0', '4', '8', '3', '6', '7'],\n",
       " ['1', '2', '5', '3', '8', '0', '6', '4', '7'],\n",
       " ['1', '2', '5', '0', '3', '8', '6', '4', '7'],\n",
       " ['1', '0', '5', '3', '2', '8', '6', '4', '7'],\n",
       " ['1', '2', '5', '0', '3', '4', '6', '7', '8'],\n",
       " ['1', '2', '5', '3', '7', '4', '6', '0', '8'],\n",
       " ['1', '0', '5', '3', '2', '4', '6', '7', '8'],\n",
       " ['1', '0', '2', '3', '4', '5', '6', '7', '8'],\n",
       " ['0', '1', '2', '3', '4', '5', '6', '7', '8']]"
      ]
     },
     "execution_count": 10,
     "metadata": {},
     "output_type": "execute_result"
    }
   ],
   "source": [
    "_1"
   ]
  },
  {
   "cell_type": "code",
   "execution_count": 6,
   "id": "4899f52e-3481-4f4b-83ac-5a1f4d7838fd",
   "metadata": {},
   "outputs": [],
   "source": [
    "start=np.array(list(\"125348670\"))\n",
    "goal=np.array(list(\"012345678\"))\n",
    "list_of_states,l,child,start=DFS.DFS_interface(start,goal)"
   ]
  },
  {
   "cell_type": "code",
   "execution_count": 7,
   "id": "03b765d8-0910-4372-88ac-e1499fe1b427",
   "metadata": {},
   "outputs": [
    {
     "data": {
      "text/plain": [
       "(array([['0', '1', '2', '3', '4', '5', '6', '7', '8'],\n",
       "        ['1', '0', '2', '3', '4', '5', '6', '7', '8'],\n",
       "        ['1', '2', '0', '3', '4', '5', '6', '7', '8'],\n",
       "        ['1', '2', '5', '3', '4', '0', '6', '7', '8'],\n",
       "        ['1', '2', '5', '3', '4', '8', '6', '7', '0']], dtype='<U1'),\n",
       " 5)"
      ]
     },
     "execution_count": 7,
     "metadata": {},
     "output_type": "execute_result"
    }
   ],
   "source": [
    "list_of_states,l"
   ]
  },
  {
   "cell_type": "code",
   "execution_count": 8,
   "id": "4f9a1365-152f-491a-8375-6173dc1e9c07",
   "metadata": {},
   "outputs": [
    {
     "name": "stdout",
     "output_type": "stream",
     "text": [
      "4\n",
      "4\n",
      "['1', '2', '5']\n",
      "['3', '4', '8']\n",
      "['6', '7', '0']\n",
      "3\n",
      "['1', '2', '5']\n",
      "['3', '4', '0']\n",
      "['6', '7', '8']\n",
      "2\n",
      "['1', '2', '0']\n",
      "['3', '4', '5']\n",
      "['6', '7', '8']\n",
      "1\n",
      "['1', '0', '2']\n",
      "['3', '4', '5']\n",
      "['6', '7', '8']\n",
      "0\n",
      "['0', '1', '2']\n",
      "['3', '4', '5']\n",
      "['6', '7', '8']\n"
     ]
    }
   ],
   "source": [
    "utils.traverse(child)"
   ]
  },
  {
   "cell_type": "code",
   "execution_count": 9,
   "id": "475e52e2-7609-46a1-a04a-b837e036524b",
   "metadata": {},
   "outputs": [],
   "source": [
    "start=np.array(list(\"125348607\"))\n",
    "goal=np.array(list(\"012345678\"))\n",
    "# default is euclidean\n",
    "list_of_states,l,child,start=Astar.Astar_interface(start,goal)"
   ]
  },
  {
   "cell_type": "code",
   "execution_count": 10,
   "id": "b23ad426-d8e1-4d1c-9528-4199af0174c3",
   "metadata": {},
   "outputs": [
    {
     "name": "stdout",
     "output_type": "stream",
     "text": [
      "5\n",
      "5\n",
      "['1', '2', '5']\n",
      "['3', '4', '8']\n",
      "['6', '0', '7']\n",
      "4\n",
      "['1', '2', '5']\n",
      "['3', '4', '8']\n",
      "['6', '7', '0']\n",
      "3\n",
      "['1', '2', '5']\n",
      "['3', '4', '0']\n",
      "['6', '7', '8']\n",
      "2\n",
      "['1', '2', '0']\n",
      "['3', '4', '5']\n",
      "['6', '7', '8']\n",
      "1\n",
      "['1', '0', '2']\n",
      "['3', '4', '5']\n",
      "['6', '7', '8']\n",
      "0\n",
      "['0', '1', '2']\n",
      "['3', '4', '5']\n",
      "['6', '7', '8']\n"
     ]
    }
   ],
   "source": [
    "utils.traverse(child)"
   ]
  },
  {
   "cell_type": "code",
   "execution_count": 11,
   "id": "17ab3be4-0f6e-4ebd-8f08-947ff24cb37d",
   "metadata": {},
   "outputs": [],
   "source": [
    "# tree object\n",
    "t=Tree.tree(start)"
   ]
  },
  {
   "cell_type": "code",
   "execution_count": 12,
   "id": "cfbc32f3-70d8-4c91-a383-78cc5bb6a5cd",
   "metadata": {},
   "outputs": [
    {
     "name": "stdout",
     "output_type": "stream",
     "text": [
      "3\n",
      "['1', '2', '5', '3', '0', '4', '6', '7', '8']\n",
      "5\n",
      "['0', '1', '2', '3', '4', '5', '6', '7', '8']\n",
      "4\n",
      "['1', '0', '2', '3', '4', '5', '6', '7', '8']\n",
      "3\n",
      "['1', '2', '0', '3', '4', '5', '6', '7', '8']\n",
      "2\n",
      "['1', '2', '5', '3', '4', '0', '6', '7', '8']\n",
      "1\n",
      "['1', '2', '5', '3', '4', '8', '6', '7', '0']\n",
      "1\n",
      "['1', '2', '5', '3', '4', '8', '0', '6', '7']\n",
      "1\n",
      "['1', '2', '5', '3', '0', '8', '6', '4', '7']\n",
      "0\n",
      "['1', '2', '5', '3', '4', '8', '6', '0', '7']\n"
     ]
    }
   ],
   "source": [
    "t.traverseTree(start)"
   ]
  },
  {
   "cell_type": "code",
   "execution_count": null,
   "id": "6c30fd0a-5329-4833-b0f0-bebbd58a7e8f",
   "metadata": {},
   "outputs": [],
   "source": []
  }
 ],
 "metadata": {
  "kernelspec": {
   "display_name": "Python 3 (ipykernel)",
   "language": "python",
   "name": "python3"
  },
  "language_info": {
   "codemirror_mode": {
    "name": "ipython",
    "version": 3
   },
   "file_extension": ".py",
   "mimetype": "text/x-python",
   "name": "python",
   "nbconvert_exporter": "python",
   "pygments_lexer": "ipython3",
   "version": "3.9.16"
  }
 },
 "nbformat": 4,
 "nbformat_minor": 5
}
