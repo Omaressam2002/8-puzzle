{
 "cells": [
  {
   "cell_type": "code",
   "execution_count": 1,
   "id": "35aca7a8-de8e-4bf1-a56d-d478fd55efb4",
   "metadata": {},
   "outputs": [],
   "source": [
    "# from anything to -> 0,1,2,3,4,5,6,7,8"
   ]
  },
  {
   "cell_type": "code",
   "execution_count": 1,
   "id": "0d80c34f-e184-40fd-8740-a2ae9420c768",
   "metadata": {},
   "outputs": [],
   "source": [
    "class state:\n",
    "    def __init__(self,state):\n",
    "        # parent is another state object\n",
    "        self.state = list(state)\n",
    "        self.parent = None\n",
    "    def setParent(self,parent):\n",
    "        self.parent = parent"
   ]
  },
  {
   "cell_type": "code",
   "execution_count": 3,
   "id": "c7992bce-a636-4400-b0e7-9d6db7050215",
   "metadata": {},
   "outputs": [],
   "source": [
    "def BFS(start,goal):\n",
    "    found = False\n",
    "    qu = [ start ]\n",
    "    explored = []\n",
    "    while len(qu) != 0:\n",
    "        # to check for children and enqueue them\n",
    "        start = qu[0]\n",
    "        qu.remove(qu[0])\n",
    "\n",
    "        explored.append(start.state)\n",
    "\n",
    "    \n",
    "        zero = start.state.index(\"0\")\n",
    "        row = (zero)//3\n",
    "        col = (zero)%3\n",
    "    \n",
    "        # neighbors\n",
    "        children = []\n",
    "        #finding neighbors\n",
    "        if (col+1) <= 2 :\n",
    "            # swap el zero ma3 el peice el 3al yeemeeno we enque it to the frontier list : zero <=> zero+1\n",
    "            child = state(start.state)\n",
    "            child.state[zero],child.state[zero+1] = child.state[zero+1],child.state[zero]\n",
    "            if goal.state == child.state :\n",
    "                child.setParent(start)\n",
    "                traverse(child)\n",
    "                flag = True\n",
    "                break\n",
    "            children.append(child)\n",
    "        if (col-1) >= 0 :\n",
    "        # swap el zero ma3 el peice el 3al shemalo we enque it to the frontier list : zero <=> zero-1\n",
    "            child = state(start.state)\n",
    "            child.state[zero],child.state[zero-1] = child.state[zero-1],child.state[zero]\n",
    "            if goal.state == child.state :\n",
    "                child.setParent(start)\n",
    "                traverse(child)\n",
    "                flag = True\n",
    "                break\n",
    "            children.append(child)\n",
    "        if (row+1) <= 2 :\n",
    "            # swap el zero ma3 el peice el ta7teeh we enque it to the frontier list : zero <=> zero+3\n",
    "            child = state(start.state)\n",
    "            child.state[zero],child.state[zero+3] = child.state[zero+3],child.state[zero]\n",
    "            if goal.state == child.state :\n",
    "                child.setParent(start)\n",
    "                traverse(child)\n",
    "                flag = True\n",
    "                break\n",
    "            children.append(child)\n",
    "        if (row-1) >= 0  :\n",
    "            # swap el zero ma3 el peice el foo2eeh we enque it to the frontier list : zero <=> zero-3\n",
    "            child = state(start.state)\n",
    "            child.state[zero],child.state[zero-3] = child.state[zero-3],child.state[zero]\n",
    "            if goal.state == child.state :\n",
    "                #print(start.state,child.state)\n",
    "                child.setParent(start)\n",
    "                traverse(child)\n",
    "                flag = True\n",
    "                break\n",
    "            children.append(child)\n",
    "\n",
    "    \n",
    "        # kol wa7da minhom hanetcheck enha makanetsh fel frontier list abl kida we ba3dein hanzo2aha \n",
    "        for child in children:\n",
    "            if not (child.state in explored) and not (child in qu):\n",
    "                child.setParent(start)\n",
    "                qu.append(child)\n",
    "    if not flag:\n",
    "        print(\"solution not Found\")"
   ]
  },
  {
   "cell_type": "code",
   "execution_count": 5,
   "id": "45483233-d338-4106-89d9-be37476a9669",
   "metadata": {},
   "outputs": [],
   "source": [
    "def traverse(state):\n",
    "    if state != None:\n",
    "        print(state.state)\n",
    "        traverse(state.parent)\n",
    "    else:\n",
    "        return"
   ]
  },
  {
   "cell_type": "code",
   "execution_count": 6,
   "id": "9852765a-0a62-4522-a9b6-03357b86e1dd",
   "metadata": {},
   "outputs": [
    {
     "name": "stdout",
     "output_type": "stream",
     "text": [
      "['0', '1', '2', '3', '4', '5', '6', '7', '8']\n",
      "['1', '0', '2', '3', '4', '5', '6', '7', '8']\n",
      "['1', '2', '0', '3', '4', '5', '6', '7', '8']\n",
      "['1', '2', '5', '3', '4', '0', '6', '7', '8']\n"
     ]
    }
   ],
   "source": [
    "start=state(\"125340678\")\n",
    "goal=state(\"012345678\")\n",
    "BFS(start,goal)"
   ]
  },
  {
   "cell_type": "code",
   "execution_count": 7,
   "id": "06b5e2b6-983a-44ca-9ef4-c0dbe63a5867",
   "metadata": {},
   "outputs": [],
   "source": [
    "def DFS(start,goal):\n",
    "    found = False\n",
    "    qu = [ start ]\n",
    "    explored = []\n",
    "    while len(qu) != 0:\n",
    "        # to check for children and enqueue them\n",
    "        start = qu[len(qu)-1]\n",
    "        qu.remove(qu[len(qu)-1])\n",
    "\n",
    "        explored.append(start.state)\n",
    "\n",
    "    \n",
    "        zero = start.state.index(\"0\")\n",
    "        row = (zero)//3\n",
    "        col = (zero)%3\n",
    "    \n",
    "        # neighbors\n",
    "        children = []\n",
    "        #finding neighbors\n",
    "        if (col+1) <= 2 :\n",
    "            # swap el zero ma3 el peice el 3al yeemeeno we enque it to the frontier list : zero <=> zero+1\n",
    "            child = state(start.state)\n",
    "            child.state[zero],child.state[zero+1] = child.state[zero+1],child.state[zero]\n",
    "            if goal.state == child.state :\n",
    "                child.setParent(start)\n",
    "                traverse(child)\n",
    "                flag = True\n",
    "                break\n",
    "            children.append(child)\n",
    "        if (col-1) >= 0 :\n",
    "        # swap el zero ma3 el peice el 3al shemalo we enque it to the frontier list : zero <=> zero-1\n",
    "            child = state(start.state)\n",
    "            child.state[zero],child.state[zero-1] = child.state[zero-1],child.state[zero]\n",
    "            if goal.state == child.state :\n",
    "                child.setParent(start)\n",
    "                traverse(child)\n",
    "                flag = True\n",
    "                break\n",
    "            children.append(child)\n",
    "        if (row+1) <= 2 :\n",
    "            # swap el zero ma3 el peice el ta7teeh we enque it to the frontier list : zero <=> zero+3\n",
    "            child = state(start.state)\n",
    "            child.state[zero],child.state[zero+3] = child.state[zero+3],child.state[zero]\n",
    "            if goal.state == child.state :\n",
    "                child.setParent(start)\n",
    "                traverse(child)\n",
    "                flag = True\n",
    "                break\n",
    "            children.append(child)\n",
    "        if (row-1) >= 0  :\n",
    "            # swap el zero ma3 el peice el foo2eeh we enque it to the frontier list : zero <=> zero-3\n",
    "            child = state(start.state)\n",
    "            child.state[zero],child.state[zero-3] = child.state[zero-3],child.state[zero]\n",
    "            if goal.state == child.state :\n",
    "                #print(start.state,child.state)\n",
    "                child.setParent(start)\n",
    "                traverse(child)\n",
    "                flag = True\n",
    "                break\n",
    "            children.append(child)\n",
    "\n",
    "    \n",
    "        # kol wa7da minhom hanetcheck enha makanetsh fel frontier list abl kida we ba3dein hanzo2aha \n",
    "        for child in children:\n",
    "            if not (child.state in explored) and not (child in qu):\n",
    "                child.setParent(start)\n",
    "                qu.append(child)\n",
    "    if not flag:\n",
    "        print(\"solution not Found\")"
   ]
  },
  {
   "cell_type": "code",
   "execution_count": 8,
   "id": "3bac2740-59b9-4bcb-b659-1f6c9575fe7f",
   "metadata": {},
   "outputs": [
    {
     "name": "stdout",
     "output_type": "stream",
     "text": [
      "['0', '1', '2', '3', '4', '5', '6', '7', '8']\n",
      "['1', '0', '2', '3', '4', '5', '6', '7', '8']\n",
      "['1', '2', '0', '3', '4', '5', '6', '7', '8']\n",
      "['1', '2', '5', '3', '4', '0', '6', '7', '8']\n"
     ]
    }
   ],
   "source": [
    "start=state(\"125340678\")\n",
    "goal=state(\"012345678\")\n",
    "DFS(start,goal)"
   ]
  },
  {
   "cell_type": "code",
   "execution_count": null,
   "id": "d871ba20-3363-4861-a7c7-0d6ae819de92",
   "metadata": {},
   "outputs": [],
   "source": []
  }
 ],
 "metadata": {
  "kernelspec": {
   "display_name": "Python 3 (ipykernel)",
   "language": "python",
   "name": "python3"
  },
  "language_info": {
   "codemirror_mode": {
    "name": "ipython",
    "version": 3
   },
   "file_extension": ".py",
   "mimetype": "text/x-python",
   "name": "python",
   "nbconvert_exporter": "python",
   "pygments_lexer": "ipython3",
   "version": "3.9.16"
  }
 },
 "nbformat": 4,
 "nbformat_minor": 5
}
