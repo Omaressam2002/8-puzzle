{
 "cells": [
  {
   "cell_type": "code",
   "execution_count": 1,
   "id": "35aca7a8-de8e-4bf1-a56d-d478fd55efb4",
   "metadata": {},
   "outputs": [],
   "source": [
    "# from anything to -> 0,1,2,3,4,5,6,7,8"
   ]
  },
  {
   "cell_type": "code",
   "execution_count": 50,
   "id": "a480de27-87fe-46c1-9d11-9869805002f7",
   "metadata": {},
   "outputs": [
    {
     "data": {
      "text/plain": [
       "['1', '0', '4', '3', '5', '6', '7', '2', '8']"
      ]
     },
     "execution_count": 50,
     "metadata": {},
     "output_type": "execute_result"
    }
   ],
   "source": [
    "zero = start.index(\"0\")\n",
    "start[zero],start[zero+1] = start[zero+1],start[zero]\n",
    "start"
   ]
  },
  {
   "cell_type": "code",
   "execution_count": 45,
   "id": "161d982a-7232-4b2f-a8cc-58772d8f162f",
   "metadata": {},
   "outputs": [
    {
     "data": {
      "text/plain": [
       "(0, 1)"
      ]
     },
     "execution_count": 45,
     "metadata": {},
     "output_type": "execute_result"
    }
   ],
   "source": [
    "row = (start.index(\"0\"))//3\n",
    "col = (start.index(\"0\"))%3\n",
    "row,col"
   ]
  },
  {
   "cell_type": "code",
   "execution_count": 46,
   "id": "6d8d3cff-3345-4130-9126-b8e9264ab7ec",
   "metadata": {},
   "outputs": [
    {
     "data": {
      "text/plain": [
       "(True, True, True, False)"
      ]
     },
     "execution_count": 46,
     "metadata": {},
     "output_type": "execute_result"
    }
   ],
   "source": [
    "(col+1) <= 2 , (col-1) >= 0, (row+1) <= 2, (row-1) >= 0 "
   ]
  },
  {
   "cell_type": "code",
   "execution_count": null,
   "id": "12a513e4-3864-441b-b000-8190d902ba74",
   "metadata": {},
   "outputs": [],
   "source": [
    "# hayet7arak fe 7etta 3ala assass el index inbound wala la\n",
    "# 3awzeen ne3mil constraints lil haraka\n",
    "# kol case maximum momkin yeb2a fe 4 options lil haraka\n",
    "# momkin 3 \n",
    "# momkin 2\n",
    "# 3ala hassab el case shoof el node we visit it.\n",
    "# hane3raf ezay el 0 fe anhy 7etta fel puzzle min el index beta3o.\n",
    "# qu remove q[0]\n",
    "# st remove st[len(st)-1]"
   ]
  },
  {
   "cell_type": "code",
   "execution_count": 68,
   "id": "0d80c34f-e184-40fd-8740-a2ae9420c768",
   "metadata": {},
   "outputs": [],
   "source": [
    "class state:\n",
    "    def __init__(self,state):\n",
    "        # parent is another state object\n",
    "        self.state = list(state)\n",
    "        self.parent = None\n",
    "    def setParent(self,parent):\n",
    "        self.parent = parent"
   ]
  },
  {
   "cell_type": "code",
   "execution_count": 76,
   "id": "9852765a-0a62-4522-a9b6-03357b86e1dd",
   "metadata": {},
   "outputs": [
    {
     "name": "stdout",
     "output_type": "stream",
     "text": [
      "['0', '1', '2', '3', '4', '5', '6', '7', '8']\n",
      "['1', '0', '2', '3', '4', '5', '6', '7', '8']\n",
      "['1', '2', '0', '3', '4', '5', '6', '7', '8']\n",
      "['1', '2', '5', '3', '4', '0', '6', '7', '8']\n",
      "False\n"
     ]
    }
   ],
   "source": [
    "start=state(\"125340678\")\n",
    "start.parent = None\n",
    "goal=state(\"012345678\")\n",
    "# kol state lazem yekoonlo el parent beta3o 3ashan ne3raf netrace back\n",
    "qu = [ start ]\n",
    "explored = []\n",
    "while len(qu) != 0:\n",
    "    # to check for children and enqueue them\n",
    "    start = qu[0]\n",
    "    qu.remove(qu[0])\n",
    "\n",
    "    explored.append(start.state)\n",
    "\n",
    "    \n",
    "    zero = start.state.index(\"0\")\n",
    "    row = (zero)//3\n",
    "    col = (zero)%3\n",
    "    \n",
    "    # neighbors\n",
    "    children = []\n",
    "    #finding neighbors\n",
    "    if (col+1) <= 2 :\n",
    "        # swap el zero ma3 el peice el 3al yeemeeno we enque it to the frontier list : zero <=> zero+1\n",
    "        child = state(start.state)\n",
    "        child.state[zero],child.state[zero+1] = child.state[zero+1],child.state[zero]\n",
    "        if goal.state == child.state :\n",
    "            child.setParent(start)\n",
    "            traverse(child)\n",
    "            break\n",
    "        children.append(child)\n",
    "    if (col-1) >= 0 :\n",
    "        # swap el zero ma3 el peice el 3al shemalo we enque it to the frontier list : zero <=> zero-1\n",
    "        child = state(start.state)\n",
    "        child.state[zero],child.state[zero-1] = child.state[zero-1],child.state[zero]\n",
    "        if goal.state == child.state :\n",
    "            child.setParent(start)\n",
    "            traverse(child)\n",
    "            break\n",
    "        children.append(child)\n",
    "    if (row+1) <= 2 :\n",
    "        # swap el zero ma3 el peice el ta7teeh we enque it to the frontier list : zero <=> zero+3\n",
    "        child = state(start.state)\n",
    "        child.state[zero],child.state[zero+3] = child.state[zero+3],child.state[zero]\n",
    "        if goal.state == child.state :\n",
    "            child.setParent(start)\n",
    "            traverse(child)\n",
    "            break\n",
    "        children.append(child)\n",
    "    if (row-1) >= 0  :\n",
    "        # swap el zero ma3 el peice el foo2eeh we enque it to the frontier list : zero <=> zero-3\n",
    "        child = state(start.state)\n",
    "        child.state[zero],child.state[zero-3] = child.state[zero-3],child.state[zero]\n",
    "        if goal.state == child.state :\n",
    "            #print(start.state,child.state)\n",
    "            child.setParent(start)\n",
    "            traverse(child)\n",
    "            break\n",
    "        children.append(child)\n",
    "\n",
    "    \n",
    "    # kol wa7da minhom hanetcheck enha makanetsh fel frontier list abl kida we ba3dein hanzo2aha \n",
    "    for child in children:\n",
    "        if not (child.state in explored) and not (child in qu):\n",
    "            child.setParent(start)\n",
    "            qu.append(child)\n",
    "print(False)"
   ]
  },
  {
   "cell_type": "code",
   "execution_count": 77,
   "id": "45483233-d338-4106-89d9-be37476a9669",
   "metadata": {},
   "outputs": [],
   "source": [
    "def traverse(state):\n",
    "    if state != None:\n",
    "        print(state.state)\n",
    "        traverse(state.parent)\n",
    "    else:\n",
    "        return"
   ]
  },
  {
   "cell_type": "code",
   "execution_count": null,
   "id": "c7992bce-a636-4400-b0e7-9d6db7050215",
   "metadata": {},
   "outputs": [],
   "source": []
  }
 ],
 "metadata": {
  "kernelspec": {
   "display_name": "Python 3 (ipykernel)",
   "language": "python",
   "name": "python3"
  },
  "language_info": {
   "codemirror_mode": {
    "name": "ipython",
    "version": 3
   },
   "file_extension": ".py",
   "mimetype": "text/x-python",
   "name": "python",
   "nbconvert_exporter": "python",
   "pygments_lexer": "ipython3",
   "version": "3.9.16"
  }
 },
 "nbformat": 4,
 "nbformat_minor": 5
}
