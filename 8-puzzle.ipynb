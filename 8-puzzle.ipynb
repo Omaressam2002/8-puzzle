{
 "cells": [
  {
   "cell_type": "code",
   "execution_count": 1,
   "id": "35aca7a8-de8e-4bf1-a56d-d478fd55efb4",
   "metadata": {},
   "outputs": [],
   "source": [
    "# from anything to -> 0,1,2,3,4,5,6,7,8"
   ]
  },
  {
   "cell_type": "code",
   "execution_count": 43,
   "id": "8e88b9bf-40eb-4792-9141-22a425549651",
   "metadata": {},
   "outputs": [],
   "source": [
    "start=list(\"014356728\")\n",
    "goal=list(\"012345678\")"
   ]
  },
  {
   "cell_type": "code",
   "execution_count": 44,
   "id": "a480de27-87fe-46c1-9d11-9869805002f7",
   "metadata": {},
   "outputs": [
    {
     "data": {
      "text/plain": [
       "['1', '0', '4', '3', '5', '6', '7', '2', '8']"
      ]
     },
     "execution_count": 44,
     "metadata": {},
     "output_type": "execute_result"
    }
   ],
   "source": [
    "zero = start.index(\"0\")\n",
    "start[zero],start[zero+1] = start[zero+1],start[zero]\n",
    "start"
   ]
  },
  {
   "cell_type": "code",
   "execution_count": 45,
   "id": "161d982a-7232-4b2f-a8cc-58772d8f162f",
   "metadata": {},
   "outputs": [
    {
     "data": {
      "text/plain": [
       "(0, 1)"
      ]
     },
     "execution_count": 45,
     "metadata": {},
     "output_type": "execute_result"
    }
   ],
   "source": [
    "row = (start.index(\"0\"))//3\n",
    "col = (start.index(\"0\"))%3\n",
    "row,col"
   ]
  },
  {
   "cell_type": "code",
   "execution_count": 46,
   "id": "6d8d3cff-3345-4130-9126-b8e9264ab7ec",
   "metadata": {},
   "outputs": [
    {
     "data": {
      "text/plain": [
       "(True, True, True, False)"
      ]
     },
     "execution_count": 46,
     "metadata": {},
     "output_type": "execute_result"
    }
   ],
   "source": [
    "(col+1) <= 2 , (col-1) >= 0, (row+1) <= 2, (row-1) >= 0 "
   ]
  },
  {
   "cell_type": "code",
   "execution_count": null,
   "id": "12a513e4-3864-441b-b000-8190d902ba74",
   "metadata": {},
   "outputs": [],
   "source": [
    "# hayet7arak fe 7etta 3ala assass el index inbound wala la\n",
    "# 3awzeen ne3mil constraints lil haraka\n",
    "# kol case maximum momkin yeb2a fe 4 options lil haraka\n",
    "# momkin 3 \n",
    "# momkin 2\n",
    "# 3ala hassab el case shoof el node we visit it.\n",
    "# hane3raf ezay el 0 fe anhy 7etta fel puzzle min el index beta3o.\n",
    "# qu remove q[0]\n",
    "# st remove st[len(st)-1]"
   ]
  },
  {
   "cell_type": "code",
   "execution_count": 36,
   "id": "9852765a-0a62-4522-a9b6-03357b86e1dd",
   "metadata": {},
   "outputs": [
    {
     "name": "stdout",
     "output_type": "stream",
     "text": [
      "014356728\n",
      "012345678\n",
      "were good\n"
     ]
    }
   ],
   "source": [
    "# kol state lazem yekoonlo el parent beta3o 3ashan ne3raf netrace back\n",
    "qu = [start]\n",
    "#qu.remove(qu[0])\n",
    "explored = []\n",
    "\n",
    "while len(qu) != 0:\n",
    "    # to check for children and enqueue them\n",
    "    zero = start.index(\"0\")\n",
    "    row = (zero)//3\n",
    "    col = (zero)%3\n",
    "    if (col+1) <= 2 :\n",
    "        # swap el zero ma3 el peice el 3al yeemeeno we enque it to the frontier list : zero <=> zero+1\n",
    "        child = start\n",
    "        child[zero],child[zero+1] = child[zero+1],child[zero]\n",
    "        # check eno ma3amalnaloosh visited abl kida\n",
    "    if (col-1) >= 0 :\n",
    "        # swap el zero ma3 el peice el 3al shemalo we enque it to the frontier list : zero <=> zero-1\n",
    "        child = start\n",
    "        child[zero],child[zero-1] = child[zero-1],child[zero]\n",
    "    if (row+1) <= 2 :\n",
    "        # swap el zero ma3 el peice el ta7teeh we enque it to the frontier list : zero <=> zero+3\n",
    "        child = start\n",
    "        child[zero],child[zero+3] = child[zero+3],child[zero]\n",
    "    if (row-1) >= 0  :\n",
    "        # swap el zero ma3 el peice el foo2eeh we enque it to the frontier list : zero <=> zero-3\n",
    "        child = start\n",
    "        child[zero],child[zero-3] = child[zero-3],child[zero]\n",
    "\n",
    "    \n",
    "    # kol wa7da minhom hanetcheck enha makanetsh fel frontier list abl kida we ba3dein hanzo2aha \n",
    "    \n",
    "    break  "
   ]
  }
 ],
 "metadata": {
  "kernelspec": {
   "display_name": "Python 3 (ipykernel)",
   "language": "python",
   "name": "python3"
  },
  "language_info": {
   "codemirror_mode": {
    "name": "ipython",
    "version": 3
   },
   "file_extension": ".py",
   "mimetype": "text/x-python",
   "name": "python",
   "nbconvert_exporter": "python",
   "pygments_lexer": "ipython3",
   "version": "3.9.16"
  }
 },
 "nbformat": 4,
 "nbformat_minor": 5
}
